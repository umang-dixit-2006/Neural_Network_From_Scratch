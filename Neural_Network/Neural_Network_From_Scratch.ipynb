{
 "cells": [
  {
   "cell_type": "markdown",
   "id": "d5826cbc",
   "metadata": {},
   "source": [
    "# Neural Network from Scratch: Classifying Letters A, B, and C\n",
    "\n",
    "This project implements a simple feedforward neural network using only NumPy to classify synthetic 5x6 binary images of the letters A, B, and C. The network is trained using custom backpropagation and visualizes loss and accuracy over epochs."
   ]
  },
  {
   "cell_type": "code",
   "execution_count": 3,
   "id": "1d94c718",
   "metadata": {},
   "outputs": [
    {
     "name": "stdout",
     "output_type": "stream",
     "text": [
      "Training data shape: (3, 30)\n",
      "Labels shape: (3, 3)\n"
     ]
    }
   ],
   "source": [
    "import numpy as np\n",
    "import matplotlib.pyplot as plt\n",
    "\n",
    "# Define 5x6 binary patterns for A, B, and C\n",
    "A = np.array([\n",
    "    [0,1,1,1,1,0],\n",
    "    [1,0,0,0,0,1],\n",
    "    [1,1,1,1,1,1],\n",
    "    [1,0,0,0,0,1],\n",
    "    [1,0,0,0,0,1]\n",
    "])\n",
    "B = np.array([\n",
    "    [1,1,1,1,0,0],\n",
    "    [1,0,0,0,1,0],\n",
    "    [1,1,1,1,0,0],\n",
    "    [1,0,0,0,1,0],\n",
    "    [1,1,1,1,0,0]\n",
    "])\n",
    "C = np.array([\n",
    "    [0,1,1,1,1,1],\n",
    "    [1,0,0,0,0,0],\n",
    "    [1,0,0,0,0,0],\n",
    "    [1,0,0,0,0,0],\n",
    "    [0,1,1,1,1,1]\n",
    "])\n",
    "\n",
    "# Flatten to 1D arrays\n",
    "A_flat = A.flatten()\n",
    "B_flat = B.flatten()\n",
    "C_flat = C.flatten()\n",
    "\n",
    "# Stack as training data\n",
    "X = np.stack([A_flat, B_flat, C_flat])\n",
    "# One-hot labels: A=[1,0,0], B=[0,1,0], C=[0,0,1]\n",
    "y = np.eye(3)\n",
    "\n",
    "print(\"Training data shape:\", X.shape)\n",
    "print(\"Labels shape:\", y.shape)"
   ]
  },
  {
   "cell_type": "code",
   "execution_count": 4,
   "id": "0c26808e",
   "metadata": {},
   "outputs": [],
   "source": [
    "# Neural Network architecture and helper functions\n",
    "\n",
    "# Set random seed for reproducibility\n",
    "np.random.seed(42)\n",
    "\n",
    "input_size = 30      # 5x6 pixels\n",
    "hidden_size = 10     # Number of hidden neurons\n",
    "output_size = 3      # 3 classes (A, B, C)\n",
    "\n",
    "# Weight and bias initialization\n",
    "W1 = np.random.randn(input_size, hidden_size) * 0.1\n",
    "b1 = np.zeros((1, hidden_size))\n",
    "W2 = np.random.randn(hidden_size, output_size) * 0.1\n",
    "b2 = np.zeros((1, output_size))\n",
    "\n",
    "def sigmoid(x):\n",
    "    return 1 / (1 + np.exp(-x))\n",
    "\n",
    "def sigmoid_derivative(x):\n",
    "    s = sigmoid(x)\n",
    "    return s * (1 - s)\n",
    "\n",
    "def softmax(x):\n",
    "    exp_x = np.exp(x - np.max(x, axis=1, keepdims=True))\n",
    "    return exp_x / np.sum(exp_x, axis=1, keepdims=True)\n"
   ]
  },
  {
   "cell_type": "code",
   "execution_count": 5,
   "id": "7756e718",
   "metadata": {},
   "outputs": [
    {
     "name": "stdout",
     "output_type": "stream",
     "text": [
      "Epoch 500: Loss=0.0035, Accuracy=1.00\n",
      "Epoch 1000: Loss=0.0016, Accuracy=1.00\n",
      "Epoch 1500: Loss=0.0010, Accuracy=1.00\n",
      "Epoch 2000: Loss=0.0008, Accuracy=1.00\n",
      "Epoch 2500: Loss=0.0006, Accuracy=1.00\n",
      "Epoch 3000: Loss=0.0005, Accuracy=1.00\n",
      "Epoch 3500: Loss=0.0004, Accuracy=1.00\n",
      "Epoch 4000: Loss=0.0004, Accuracy=1.00\n",
      "Epoch 4500: Loss=0.0003, Accuracy=1.00\n",
      "Epoch 5000: Loss=0.0003, Accuracy=1.00\n"
     ]
    },
    {
     "data": {
      "image/png": "[encoded data removed]",
      "text/plain": [
       "<Figure size 1200x500 with 2 Axes>"
      ]
     },
     "metadata": {},
     "output_type": "display_data"
    }
   ],
   "source": [
    "# Feedforward, loss, backpropagation, and training loop\n",
    "\n",
    "def forward(X):\n",
    "    z1 = X @ W1 + b1\n",
    "    a1 = sigmoid(z1)\n",
    "    z2 = a1 @ W2 + b2\n",
    "    a2 = softmax(z2)\n",
    "    return z1, a1, z2, a2\n",
    "\n",
    "def compute_loss(y_true, y_pred):\n",
    "    # Cross-entropy loss\n",
    "    m = y_true.shape[0]\n",
    "    loss = -np.sum(y_true * np.log(y_pred + 1e-8)) / m\n",
    "    return loss\n",
    "\n",
    "def accuracy(y_true, y_pred):\n",
    "    return np.mean(np.argmax(y_true, axis=1) == np.argmax(y_pred, axis=1))\n",
    "\n",
    "# Training parameters\n",
    "lr = 0.5\n",
    "epochs = 5000\n",
    "losses = []\n",
    "accuracies = []\n",
    "\n",
    "for epoch in range(epochs):\n",
    "    # Forward pass\n",
    "    z1, a1, z2, a2 = forward(X)\n",
    "    # Loss and accuracy\n",
    "    loss = compute_loss(y, a2)\n",
    "    acc = accuracy(y, a2)\n",
    "    losses.append(loss)\n",
    "    accuracies.append(acc)\n",
    "    # Backpropagation\n",
    "    m = X.shape[0]\n",
    "    dz2 = (a2 - y) / m\n",
    "    dW2 = a1.T @ dz2\n",
    "    db2 = np.sum(dz2, axis=0, keepdims=True)\n",
    "    da1 = dz2 @ W2.T\n",
    "    dz1 = da1 * sigmoid_derivative(z1)\n",
    "    dW1 = X.T @ dz1\n",
    "    db1 = np.sum(dz1, axis=0, keepdims=True)\n",
    "    # Update weights\n",
    "    W2 -= lr * dW2\n",
    "    b2 -= lr * db2\n",
    "    W1 -= lr * dW1\n",
    "    b1 -= lr * db1\n",
    "    # Print progress every 500 epochs\n",
    "    if (epoch+1) % 500 == 0:\n",
    "        print(f\"Epoch {epoch+1}: Loss={loss:.4f}, Accuracy={acc:.2f}\")\n",
    "\n",
    "# Plot loss and accuracy\n",
    "plt.figure(figsize=(12,5))\n",
    "plt.subplot(1,2,1)\n",
    "plt.plot(losses)\n",
    "plt.title('Loss over Epochs')\n",
    "plt.xlabel('Epoch')\n",
    "plt.ylabel('Loss')\n",
    "plt.subplot(1,2,2)\n",
    "plt.plot(accuracies)\n",
    "plt.title('Accuracy over Epochs')\n",
    "plt.xlabel('Epoch')\n",
    "plt.ylabel('Accuracy')\n",
    "plt.show()\n"
   ]
  },
  {
   "cell_type": "code",
   "execution_count": 7,
   "id": "6fd19661",
   "metadata": {},
   "outputs": [
    {
     "data": {
      "image/png": "[encoded data removed]",
      "text/plain": [
       "<Figure size 200x200 with 1 Axes>"
      ]
     },
     "metadata": {},
     "output_type": "display_data"
    },
    {
     "data": {
      "image/png": "[encoded data removed]",
      "text/plain": [
       "<Figure size 200x200 with 1 Axes>"
      ]
     },
     "metadata": {},
     "output_type": "display_data"
    },
    {
     "data": {
      "image/png": "[encoded data removed]",
      "text/plain": [
       "<Figure size 200x200 with 1 Axes>"
      ]
     },
     "metadata": {},
     "output_type": "display_data"
    },
    {
     "name": "stdout",
     "output_type": "stream",
     "text": [
      "Predicted classes: ['A', 'B', 'C']\n"
     ]
    }
   ],
   "source": [
    "# Test the trained model and visualize predictions\n",
    "\n",
    "letters = ['A', 'B', 'C']\n",
    "_, _, _, y_pred = forward(X)\n",
    "pred_classes = np.argmax(y_pred, axis=1)\n",
    "true_classes = np.argmax(y, axis=1)\n",
    "\n",
    "for i in range(3):\n",
    "    plt.figure(figsize=(2,2))\n",
    "    plt.imshow(X[i].reshape(5,6), cmap='gray', interpolation='nearest')\n",
    "    plt.title(f\"True: {letters[true_classes[i]]}, Predicted: {letters[pred_classes[i]]}\")\n",
    "    plt.axis('off')\n",
    "    plt.show()\n",
    "\n",
    "print(\"Predicted classes:\", [letters[idx] for idx in pred_classes])"
   ]
  },
  {
   "cell_type": "markdown",
   "id": "0cb23b76",
   "metadata": {},
   "source": []
  }
 ],
 "metadata": {
  "kernelspec": {
   "display_name": "Python 3",
   "language": "python",
   "name": "python3"
  },
  "language_info": {
   "codemirror_mode": {
    "name": "ipython",
    "version": 3
   },
   "file_extension": ".py",
   "mimetype": "text/x-python",
   "name": "python",
   "nbconvert_exporter": "python",
   "pygments_lexer": "ipython3",
   "version": "3.11.8"
  }
 },
 "nbformat": 4,
 "nbformat_minor": 5
}
